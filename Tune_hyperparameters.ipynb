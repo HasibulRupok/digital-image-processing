{
  "nbformat": 4,
  "nbformat_minor": 0,
  "metadata": {
    "colab": {
      "provenance": []
    },
    "kernelspec": {
      "name": "python3",
      "display_name": "Python 3"
    },
    "language_info": {
      "name": "python"
    }
  },
  "cells": [
    {
      "cell_type": "code",
      "source": [
        "pip install keras-tuner --upgrade"
      ],
      "metadata": {
        "id": "y5W4rVW7Iryf"
      },
      "execution_count": null,
      "outputs": []
    },
    {
      "cell_type": "code",
      "source": [
        "from tensorflow import keras\n",
        "from tensorflow.keras import layers\n",
        "from kerastuner.tuners import RandomSearch"
      ],
      "metadata": {
        "id": "kAbTVwcA7vah"
      },
      "execution_count": null,
      "outputs": []
    },
    {
      "cell_type": "code",
      "source": [
        "def build_model(hp):\n",
        "    model = keras.Sequential([\n",
        "        layers.Conv2D(hp.Int('input_units', min_value=32, max_value=512, step=32), (3,3), activation='relu', input_shape=(224,224,3)),\n",
        "        layers.MaxPooling2D(pool_size=(2,2)),\n",
        "        layers.Flatten(),\n",
        "        layers.Dense(hp.Int('dense_units', min_value=64, max_value=512, step=64), activation='relu'),\n",
        "        layers.Dropout(hp.Float('dropout', min_value=0.1, max_value=0.5, step=0.1)),\n",
        "        layers.Dense(1, activation='sigmoid')\n",
        "    ])\n",
        "    model.compile(optimizer=keras.optimizers.Adam(hp.Choice('learning_rate', values=[1e-2, 1e-3, 1e-4])),\n",
        "                  loss='binary_crossentropy',\n",
        "                  metrics=['accuracy'])\n",
        "    return model"
      ],
      "metadata": {
        "id": "DGoVI8pG7xql"
      },
      "execution_count": null,
      "outputs": []
    },
    {
      "cell_type": "code",
      "execution_count": null,
      "metadata": {
        "id": "34Tm5xKv7oqP"
      },
      "outputs": [],
      "source": [
        "tuner = RandomSearch(\n",
        "    build_model,\n",
        "    objective='val_accuracy',\n",
        "    max_trials=10,\n",
        "    executions_per_trial=2,\n",
        "    directory='my_dir',\n",
        "    project_name='vgg16_tuning')\n",
        "\n",
        "tuner.search_space_summary()\n",
        "\n",
        "tuner.search(train_data, train_labels, epochs=10, validation_data=(val_data, val_labels))\n",
        "\n",
        "tuner.results_summary()\n"
      ]
    }
  ]
}